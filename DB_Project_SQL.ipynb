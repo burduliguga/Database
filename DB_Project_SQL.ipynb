{
 "cells": [
  {
   "cell_type": "code",
   "execution_count": 30,
   "metadata": {},
   "outputs": [],
   "source": [
    "import json \n",
    "import glob\n",
    "import os\n",
    "import pymysql\n",
    "import numpy as np\n",
    "# the file to be converted to  \n",
    "# json format \n",
    "def create_data_list():\n",
    "    path = 'D:/Data Science/Principles of Data Management/project/data/Disqus file'\n",
    "    fileList = []\n",
    "    for filename in os.listdir(path):\n",
    "            #content = open(os.path.join(path, filename), 'r')\n",
    "            fileList.append(filename)\n",
    "\n",
    "    dictList = []\n",
    "    print(\"Started Reading JSON file which contains multiple JSON document\")\n",
    "    for file in fileList:\n",
    "        with open(path + \"/\" + file) as f:\n",
    "            for jsonObj in f:\n",
    "                d = json.loads(jsonObj)\n",
    "                dictList.append(d)\n",
    "    print(len(dictList))\n",
    "    return dictList"
   ]
  },
  {
   "cell_type": "code",
   "execution_count": 2,
   "metadata": {},
   "outputs": [],
   "source": [
    "class ID:\n",
    "    def __init__(self):\n",
    "        self.permalink_id = 1\n",
    "        self.avatar_id = 1\n",
    "        self.maintable_id = 1\n",
    "    def incr_permalink(self):\n",
    "        self.permalink_id = self.permalink_id + 1\n",
    "    def incr_avatar(self):\n",
    "        self.avatar_id = self.avatar_id + 1\n",
    "    def incr_maintable(self):\n",
    "        self.maintable_id = self.maintable_id + 1"
   ]
  },
  {
   "cell_type": "code",
   "execution_count": 3,
   "metadata": {},
   "outputs": [],
   "source": [
    "\n",
    "\n",
    "def create_tables(cursor):\n",
    "    cursor.execute(\"CREATE TABLE permalink (ID INT AUTO_INCREMENT PRIMARY KEY, permalink VARCHAR(255), cache VARCHAR(255))\")\n",
    "\n",
    "    cursor.execute(\"CREATE TABLE avatar (ID INT AUTO_INCREMENT PRIMARY KEY, smallpermalinkID INT, \\\n",
    "                                        isCustom BIT, permalinkID INT, largePermalinkID INT)\")\n",
    "\n",
    "    cursor.execute(\"CREATE TABLE author (username VARCHAR(255), about LONGTEXT, name VARCHAR(255), \\\n",
    "                  disable3rdPartyTrackers BIT, isPowerContributor BIT, joinedAt DATETIME, profileUrl VARCHAR(255), \\\n",
    "                  url VARCHAR(255), location VARCHAR(255), isPrivate BIT, signedUrl VARCHAR(255), \\\n",
    "                  isPrimary BIT, isAnonymous BIT, id VARCHAR(255) PRIMARY KEY, avatarID INT, \\\n",
    "                  FOREIGN KEY(avatarID) REFERENCES avatar(ID))\")\n",
    "\n",
    "    cursor.execute(\"CREATE TABLE mainTable (tID INT AUTO_INCREMENT PRIMARY KEY, prev VARCHAR(255), hasNext BIT, \\\n",
    "                   next VARCHAR(255), hasPrev BIT, total VARCHAR(255), id VARCHAR(255), more BIT, code INT)\")\n",
    "\n",
    "    cursor.execute(\"CREATE TABLE response (editableUntil DATETIME, dislikes INT, numReports INT, likes INT, \\\n",
    "    message LONGTEXT, id VARCHAR(255) PRIMARY KEY, createdAt DATETIME, authorID VARCHAR(255), media VARCHAR(255), isSpam BIT,\\\n",
    "    isDeletedByAuthor BIT, isDeleted BIT, parent VARCHAR(255), isApproved BIT, isFlagged BIT, raw_message LONGTEXT, \\\n",
    "    isHighlighted BIT, canVote BIT, thread VARCHAR(255), forum VARCHAR(255), \\\n",
    "    points INT, moderationLabels VARCHAR(255), isEdited BIT, sb BIT, FOREIGN KEY(authorID) REFERENCES author(id))\")\n",
    "\n",
    "    cursor.execute(\"CREATE TABLE connector (main_ID INT, response_ID VARCHAR(255), \\\n",
    "    FOREIGN KEY(main_ID) REFERENCES maintable(tID), FOREIGN KEY(response_ID) REFERENCES response(id))\")\n"
   ]
  },
  {
   "cell_type": "code",
   "execution_count": 4,
   "metadata": {},
   "outputs": [],
   "source": [
    "def insert_into_maintable(val, cursor):\n",
    "    \n",
    "    sql = \"INSERT INTO maintable (prev, hasNext, next, hasPrev , total , id , more, code) \\\n",
    "                                VALUES (%s, %s, %s, %s, %s, %s, %s, %s)\"\n",
    "    cursor.execute(sql, val)"
   ]
  },
  {
   "cell_type": "code",
   "execution_count": 5,
   "metadata": {},
   "outputs": [],
   "source": [
    "def insert_maintable(cursorList, code, cursor):\n",
    "    l = []\n",
    "    for i in cursorList:\n",
    "        if cursorList[i] == False:\n",
    "            l.append(0)\n",
    "        elif cursorList[i] == True:\n",
    "            l.append(1)\n",
    "        elif cursorList[i] == None:\n",
    "            l.append(None)\n",
    "        else:\n",
    "            l.append(cursorList[i])\n",
    "    l.append(code)\n",
    "    ans = tuple(l)\n",
    "    insert_into_maintable(ans, cursor)"
   ]
  },
  {
   "cell_type": "code",
   "execution_count": 6,
   "metadata": {},
   "outputs": [],
   "source": [
    "def insert_permalink(permalink, cache, cursor):\n",
    "    val = (permalink, cache)\n",
    "    \n",
    "    sql = \"INSERT INTO permalink (permalink, cache) \\\n",
    "                                VALUES (%s, %s)\"\n",
    "    cursor.execute(sql, val)"
   ]
  },
  {
   "cell_type": "code",
   "execution_count": 7,
   "metadata": {},
   "outputs": [],
   "source": [
    "def insert_avatar(val, cursor):\n",
    "\n",
    "    sql = \"INSERT INTO avatar (smallpermalinkID, isCustom, permalinkID, largePermalinkID ) \\\n",
    "                                VALUES (%s, %s, %s, %s)\"\n",
    "    cursor.execute(sql, val)"
   ]
  },
  {
   "cell_type": "code",
   "execution_count": 8,
   "metadata": {},
   "outputs": [],
   "source": [
    "def parse_avatar(avatar, saveID, cursor):\n",
    "    l = []\n",
    "    \n",
    "    insert_permalink(avatar['small']['permalink'], avatar['small']['cache'], cursor)\n",
    "    l.append(saveID.permalink_id)\n",
    "    saveID.incr_permalink()\n",
    "    if avatar.get('isCustom') is None or avatar['isCustom'] == False:\n",
    "        l.append(0)\n",
    "    else:\n",
    "        l.append(1)\n",
    "        \n",
    "    insert_permalink(avatar['permalink'], avatar['cache'], cursor)\n",
    "    l.append(saveID.permalink_id)\n",
    "    saveID.incr_permalink()\n",
    "    \n",
    "    insert_permalink(avatar['large']['permalink'], avatar['large']['cache'], cursor)\n",
    "    l.append(saveID.permalink_id)\n",
    "    saveID.incr_permalink()\n",
    "    \n",
    "    t = tuple(l)\n",
    "    insert_avatar(t, cursor)\n",
    "            \n",
    "            "
   ]
  },
  {
   "cell_type": "code",
   "execution_count": 9,
   "metadata": {},
   "outputs": [],
   "source": [
    "def insert_author(val, author_id, cursor):\n",
    "\n",
    "    sql = \"SELECT * FROM author WHERE id = %s\"\n",
    "    adr = (author_id, )\n",
    "    cursor.execute(sql, adr)\n",
    "    data = cursor.fetchall()\n",
    "    if not data:\n",
    "        sql = \"INSERT INTO author (username, about, name, disable3rdPartyTrackers, isPowerContributor, joinedAt, profileUrl, \\\n",
    "                                url, location, isPrivate, signedUrl, isPrimary, isAnonymous, id, avatarID) \\\n",
    "                                VALUES (%s, %s, %s, %s, %s, %s, %s, %s, %s, %s, %s, %s, %s, %s, %s)\"\n",
    "        cursor.execute(sql, val)\n"
   ]
  },
  {
   "cell_type": "code",
   "execution_count": 10,
   "metadata": {},
   "outputs": [],
   "source": [
    "def parse_author(author, saveID, cursor):\n",
    "    l = []\n",
    "    for a in author:\n",
    "        if a == 'avatar':\n",
    "            parse_avatar(author[a], saveID, cursor)\n",
    "        elif a == 'joinedAt':\n",
    "            k = author[a].split(\"T\")\n",
    "            ans = k[0] + \" \" +k[1]\n",
    "            l.append(ans)\n",
    "        elif author[a] == True:\n",
    "            l.append(1)\n",
    "        elif author[a] == False:\n",
    "            l.append(0)\n",
    "        elif author[a] == \"\":\n",
    "            l.append(None)\n",
    "        else:\n",
    "            l.append(author[a])\n",
    "    l.append(saveID.avatar_id)\n",
    "    saveID.incr_avatar()\n",
    "    val = tuple(l)\n",
    "    if author.get('id') is None:\n",
    "        return None\n",
    "    insert_author(val, author['id'], cursor)\n",
    "    return author['id']"
   ]
  },
  {
   "cell_type": "code",
   "execution_count": 11,
   "metadata": {},
   "outputs": [],
   "source": [
    "def insert_into_response(val, response_id, cursor):\n",
    "  \n",
    "    sql = \"SELECT * FROM response WHERE id = %s\"\n",
    "    adr = (response_id, )\n",
    "    cursor.execute(sql, adr)\n",
    "    data = cursor.fetchall()\n",
    "    if not data:\n",
    "        sql = \"INSERT INTO response (editableUntil, dislikes, numReports, likes, message, id, createdAt, authorID, media,\\\n",
    "        isSpam, isDeletedByAuthor, isDeleted, parent, isApproved, isFlagged, raw_message, isHighlighted,\\\n",
    "        canVote, thread, forum, points, moderationLabels, isEdited, sb)\\\n",
    "                                    VALUES (%s, %s, %s, %s, %s, %s, %s, %s, %s, %s, %s, %s, %s, %s, %s, \\\n",
    "                                            %s, %s, %s, %s, %s, %s, %s, %s, %s)\"\n",
    "        cursor.execute(sql, val)"
   ]
  },
  {
   "cell_type": "code",
   "execution_count": 12,
   "metadata": {},
   "outputs": [],
   "source": [
    "def parse_response(elem, saveID, cursor):\n",
    "    l = []\n",
    "    for e in elem:\n",
    "        a = elem[e]\n",
    "        if e == 'media' or e == 'moderationLabels':\n",
    "            if(len(a) == 0):\n",
    "                l.append(None)\n",
    "            else:\n",
    "                l.append(a[0])\n",
    "        elif e == 'editableUntil' or e == 'createdAt':\n",
    "            k = a.split(\"T\")\n",
    "            ans = k[0] + \" \" +k[1]\n",
    "            l.append(ans)\n",
    "        elif e == 'author':\n",
    "            authorID = parse_author(a, saveID, cursor)\n",
    "            l.append(authorID)\n",
    "        elif a == True:\n",
    "            l.append(1)\n",
    "        elif a == False:\n",
    "            l.append(0)\n",
    "        else:\n",
    "            l.append(a)\n",
    "    val = tuple(l)\n",
    "    insert_into_response(val, elem['id'], cursor)\n",
    "    return elem['id']"
   ]
  },
  {
   "cell_type": "code",
   "execution_count": 13,
   "metadata": {},
   "outputs": [],
   "source": [
    "def insert_response(resp, saveID, cursor):\n",
    "    respid = []\n",
    "    for elem in resp:\n",
    "        re = parse_response(elem, saveID, cursor)\n",
    "        respid.append(re)\n",
    "    return respid"
   ]
  },
  {
   "cell_type": "code",
   "execution_count": 14,
   "metadata": {},
   "outputs": [],
   "source": [
    "def insert_into_connector(val, cursor):\n",
    "\n",
    "    sql = \"SELECT * FROM connector WHERE main_ID = %s and response_ID = %s\"\n",
    "    adr = (val[0], val[1],)\n",
    "    cursor.execute(sql, adr)\n",
    "    data = cursor.fetchall()\n",
    "    if not data:\n",
    "        sql = \"INSERT INTO connector (main_ID, response_ID) \\\n",
    "                                VALUES (%s, %s)\"\n",
    "        cursor.execute(sql, val)"
   ]
  },
  {
   "cell_type": "code",
   "execution_count": 15,
   "metadata": {},
   "outputs": [],
   "source": [
    "def insert_connector(maintable_id, respid, cursor):\n",
    "    for i in respid:\n",
    "        val = (maintable_id, i)\n",
    "        insert_into_connector(val, cursor)"
   ]
  },
  {
   "cell_type": "code",
   "execution_count": 16,
   "metadata": {},
   "outputs": [],
   "source": [
    "def parse_json(element, saveID, cursor):\n",
    "    insert_maintable(element['cursor'], element['code'], cursor)\n",
    "    respid = insert_response(element['response'], saveID, cursor)\n",
    "    insert_connector(saveID.maintable_id, respid, cursor)\n",
    "    saveID.incr_maintable()"
   ]
  },
  {
   "cell_type": "code",
   "execution_count": 17,
   "metadata": {},
   "outputs": [],
   "source": [
    "def insert_parse_value(dictList, saveID, cursor):\n",
    "    if dictList != None:\n",
    "        for element in dictList:\n",
    "            parse_json(element, saveID, cursor)"
   ]
  },
  {
   "cell_type": "code",
   "execution_count": 18,
   "metadata": {},
   "outputs": [
    {
     "name": "stdout",
     "output_type": "stream",
     "text": [
      "Started Reading JSON file which contains multiple JSON document\n",
      "24\n"
     ]
    }
   ],
   "source": [
    "def main():\n",
    "    db_name = 'project'\n",
    "    con = pymysql.connect(host = 'localhost',user = 'root',passwd = 'Data2020ScienceTU!@#',db = db_name)\n",
    "    cursor = con.cursor()\n",
    "    \n",
    "    \n",
    "    saveID = ID()\n",
    "    dictList = create_data_list()\n",
    "    create_tables(cursor)\n",
    "    insert_parse_value(dictList, saveID, cursor)\n",
    "    \n",
    "    con.commit()\n",
    "    con.close()\n",
    "main()"
   ]
  },
  {
   "cell_type": "code",
   "execution_count": 18,
   "metadata": {},
   "outputs": [],
   "source": [
    "def large_data():\n",
    "    # the file to be converted to  \n",
    "    # json format \n",
    "    \n",
    "    path = 'D:/Data Science/Principles of Data Management/project/data/For Merge Disqus'\n",
    "    fileList = []\n",
    "    for filename in os.listdir(path):\n",
    "            #content = open(os.path.join(path, filename), 'r')\n",
    "            fileList.append(filename)\n",
    "\n",
    "    dictList = []\n",
    "    print(\"Started Reading JSON file which contains multiple JSON document\")\n",
    "    for file in fileList:\n",
    "        with open(path + \"/\" + file) as f:\n",
    "            for jsonObj in f:\n",
    "                d = json.loads(jsonObj)\n",
    "                dictList.append(d)\n",
    "    print(len(dictList))\n",
    "    return dictList"
   ]
  },
  {
   "cell_type": "code",
   "execution_count": 19,
   "metadata": {},
   "outputs": [
    {
     "name": "stdout",
     "output_type": "stream",
     "text": [
      "Started Reading JSON file which contains multiple JSON document\n",
      "2891\n"
     ]
    }
   ],
   "source": [
    "def main2():\n",
    "    db_name = 'bigproject'\n",
    "    con = pymysql.connect(host = 'localhost',user = 'root',passwd = 'Data2020ScienceTU!@#',db = db_name)\n",
    "    cursor = con.cursor()\n",
    "    \n",
    "    saveID = ID()\n",
    "    dictList = large_data()\n",
    "    create_tables(cursor)\n",
    "    insert_parse_value(dictList, saveID, cursor)\n",
    "    \n",
    "    con.commit()\n",
    "    con.close()\n",
    "main2()"
   ]
  },
  {
   "cell_type": "code",
   "execution_count": 20,
   "metadata": {},
   "outputs": [],
   "source": [
    "import pymysql\n",
    "def queries(cursor):\n",
    "    \n",
    "    #1\n",
    "    q1 = \"select * from author where location is null;\"\n",
    "    cursor.execute(q1)\n",
    "    #2\n",
    "    q2 = \"select a.username, a.location, a.id from author a join author b \\\n",
    "            where a.location is not null and b.location is not null \\\n",
    "                    and a.id != b.id and a.location = b.location order by a.location;\"\n",
    "    cursor.execute(q2)\n",
    "    #3\n",
    "    q3 = \"select a.username, a.id, r.message from author a join response r on authorID = a.id \\\n",
    "                where message like '%Maybe%' and message like '%Trump%' and message like '%car%';\"\n",
    "    cursor.execute(q3)\n",
    "    #4\n",
    "    q4 = \"select a.location, a.id, b.id from author a join author b \\\n",
    "                    on a.location is not null and b.location is not null and a.id > b.id and a.location = b.location \\\n",
    "                    join response ar on ar.authorID = a.id and ar.message like '%he%' \\\n",
    "                    join response br on br.authorID = b.id and br.message like '%he%' \\\n",
    "                    group by a.location, a.id, b.id;\"\n",
    "    cursor.execute(q4)\n",
    "    #5\n",
    "    q5 = \"select id, count(message) from (select message, username, author.id from response join author \\\n",
    "                    where response.authorID = author.id) posts \\\n",
    "                    group by id ORDER BY count(message) desc limit 10;\"\n",
    "    cursor.execute(q5)\n",
    "     \n",
    "    #6\n",
    "    q6 = \"select * from author a where not exists (select r.id from response r where parent is null and authorID = a.id);\"\n",
    "    cursor.execute(q6)\n",
    "\n",
    "    #7\n",
    "    q7 = \"select * from author a where not exists (select r.id from response r where parent is not null and authorID = a.id);\"\n",
    "    cursor.execute(q7)\n",
    "    \n",
    "    #8\n",
    "    q8 = \"select authorID, avg(likes), avg(dislikes) from response \\\n",
    "            where authorID is not null group by authorID order by avg(likes);\"\n",
    "    cursor.execute(q8)\n"
   ]
  },
  {
   "cell_type": "code",
   "execution_count": 21,
   "metadata": {},
   "outputs": [],
   "source": [
    "import time\n",
    "def get_time(cursor):\n",
    "    start_time = time.time()\n",
    "    queries(cursor)\n",
    "    return (time.time() - start_time)"
   ]
  },
  {
   "cell_type": "code",
   "execution_count": 22,
   "metadata": {},
   "outputs": [
    {
     "name": "stdout",
     "output_type": "stream",
     "text": [
      "8.235968351364136\n"
     ]
    }
   ],
   "source": [
    "l = []\n",
    "db_name = 'bigproject'\n",
    "con = pymysql.connect(host = 'localhost',user = 'root',passwd = 'Data2020ScienceTU!@#',db = db_name)\n",
    "cursor = con.cursor()\n",
    "\n",
    "ans = get_time(cursor)\n",
    "print(ans)\n",
    "l.append(ans)\n",
    "\n",
    "con.commit()\n",
    "con.close()"
   ]
  },
  {
   "cell_type": "code",
   "execution_count": 52,
   "metadata": {},
   "outputs": [],
   "source": [
    "def query1(cursor):\n",
    "    \n",
    "    #1\n",
    "    q1 = \"select id, username from author where location is null;\"\n",
    "    cursor.execute(q1)\n",
    "    \n",
    "def query2(cursor):    \n",
    "    #2\n",
    "    q2 = \"select a.username, a.location, a.id from author a join author b \\\n",
    "            where a.location is not null and b.location is not null \\\n",
    "                    and a.id != b.id and a.location = b.location order by a.location;\"\n",
    "    cursor.execute(q2)\n",
    "def query3(cursor):     \n",
    "    #3\n",
    "    q3 = \"select a.username, a.id, r.message from author a join response r on authorID = a.id \\\n",
    "                where message like '%Maybe%' and message like '%Trump%' and message like '%car%';\"\n",
    "    cursor.execute(q3)\n",
    "    \n",
    "def query4(cursor):    \n",
    "    #4\n",
    "    q4 = \"select a.location, a.id, b.id from author a join author b \\\n",
    "                    on a.location is not null and b.location is not null and a.id > b.id and a.location = b.location \\\n",
    "                    join response ar on ar.authorID = a.id and ar.message like '%he%' \\\n",
    "                    join response br on br.authorID = b.id and br.message like '%he%' \\\n",
    "                    group by a.location, a.id, b.id;\"\n",
    "    cursor.execute(q4)\n",
    "def query5(cursor):    \n",
    "    #5\n",
    "    q5 = \"select id, count(message) from (select message, username, author.id from response join author \\\n",
    "                    where response.authorID = author.id) posts \\\n",
    "                    group by id ORDER BY count(message) desc limit 10;\"\n",
    "    cursor.execute(q5)\n",
    "\n",
    "def query6(cursor):    \n",
    "    #6\n",
    "    q6 = \"select * from author a where not exists (select r.id from response r where parent is null and authorID = a.id);\"\n",
    "    cursor.execute(q6)\n",
    "\n",
    "def query7(cursor):\n",
    "    #7\n",
    "    q7 = \"select * from author a where not exists (select r.id from response r where parent is not null and authorID = a.id );\"\n",
    "    cursor.execute(q7)\n",
    "\n",
    "def query8(cursor):\n",
    "    #8\n",
    "    q8 = \"select authorID, avg(likes), avg(dislikes) from response \\\n",
    "            where authorID is not null group by authorID order by avg(likes);\"\n",
    "    cursor.execute(q8)\n"
   ]
  },
  {
   "cell_type": "code",
   "execution_count": 53,
   "metadata": {},
   "outputs": [],
   "source": [
    "def count_time(cursor, func):\n",
    "    start_time = time.time()\n",
    "    func(cursor)\n",
    "    return (time.time() - start_time)"
   ]
  },
  {
   "cell_type": "code",
   "execution_count": 54,
   "metadata": {},
   "outputs": [
    {
     "name": "stdout",
     "output_type": "stream",
     "text": [
      "0.08274412155151367\n",
      "0.05585145950317383\n",
      "0.4697754383087158\n",
      "0.6153583526611328\n",
      "0.5903844833374023\n",
      "0.4388244152069092\n",
      "0.4847424030303955\n",
      "5.322722911834717\n",
      "8.06040358543396\n"
     ]
    }
   ],
   "source": [
    "l = []\n",
    "db_name = 'bigproject'\n",
    "con = pymysql.connect(host = 'localhost',user = 'root',passwd = 'Data2020ScienceTU!@#',db = db_name)\n",
    "cursor = con.cursor()\n",
    "\n",
    "ans1 = count_time(cursor, query1)\n",
    "l.append(ans1)\n",
    "ans2 = count_time(cursor, query2)\n",
    "l.append(ans2)\n",
    "ans3 = count_time(cursor, query3)\n",
    "l.append(ans3)\n",
    "ans4 = count_time(cursor, query4)\n",
    "l.append(ans4)\n",
    "ans5 = count_time(cursor, query5)\n",
    "l.append(ans5)\n",
    "ans6 = count_time(cursor, query6)\n",
    "l.append(ans6)\n",
    "ans7 = count_time(cursor, query7)\n",
    "l.append(ans7)\n",
    "ans8 = count_time(cursor, query8)\n",
    "l.append(ans8)\n",
    "\n",
    "print(ans1)\n",
    "print(ans2)\n",
    "print(ans3)\n",
    "print(ans4)\n",
    "print(ans5)\n",
    "print(ans6)\n",
    "print(ans7)\n",
    "print(ans8)\n",
    "print(ans1 + ans2 + ans3 + ans4 + ans5 + ans6 + ans7 + ans8)\n",
    "con.commit()\n",
    "con.close()"
   ]
  },
  {
   "cell_type": "code",
   "execution_count": 55,
   "metadata": {},
   "outputs": [
    {
     "data": {
      "image/png": "[encoded data removed]",
      "text/plain": [
       "<Figure size 432x288 with 1 Axes>"
      ]
     },
     "metadata": {
      "needs_background": "light"
     },
     "output_type": "display_data"
    }
   ],
   "source": [
    "import matplotlib.pyplot as plt\n",
    "\n",
    "plt.hist(l, bins = 100)\n",
    "plt.show()"
   ]
  },
  {
   "cell_type": "code",
   "execution_count": 62,
   "metadata": {},
   "outputs": [],
   "source": [
    "l1 = []\n",
    "l2 = []\n",
    "l3 = []\n",
    "l4 = []\n",
    "l5 = []\n",
    "l6 = []\n",
    "l7 = []\n",
    "l8 = []\n",
    "db_name = 'bigproject'\n",
    "con = pymysql.connect(host = 'localhost',user = 'root',passwd = 'Data2020ScienceTU!@#',db = db_name)\n",
    "cursor = con.cursor()\n",
    "for i in range(5):\n",
    "    ans1 = count_time(cursor, query1)\n",
    "    l1.append(ans1)\n",
    "    ans2 = count_time(cursor, query2)\n",
    "    l2.append(ans2)\n",
    "    ans3 = count_time(cursor, query3)\n",
    "    l3.append(ans3)\n",
    "    ans4 = count_time(cursor, query4)\n",
    "    l4.append(ans4)\n",
    "    ans5 = count_time(cursor, query5)\n",
    "    l5.append(ans5)\n",
    "    ans6 = count_time(cursor, query6)\n",
    "    l6.append(ans6)\n",
    "    ans7 = count_time(cursor, query7)\n",
    "    l7.append(ans7)\n",
    "    ans8 = count_time(cursor, query8)\n",
    "    l8.append(ans8)\n",
    "con.commit()\n",
    "con.close()"
   ]
  },
  {
   "cell_type": "code",
   "execution_count": 57,
   "metadata": {},
   "outputs": [
    {
     "data": {
      "image/png": "[encoded data removed]",
      "text/plain": [
       "<Figure size 576x72 with 1 Axes>"
      ]
     },
     "metadata": {
      "needs_background": "light"
     },
     "output_type": "display_data"
    },
    {
     "data": {
      "image/png": "[encoded data removed]",
      "text/plain": [
       "<Figure size 576x72 with 1 Axes>"
      ]
     },
     "metadata": {
      "needs_background": "light"
     },
     "output_type": "display_data"
    },
    {
     "data": {
      "image/png": "[encoded data removed]",
      "text/plain": [
       "<Figure size 576x72 with 1 Axes>"
      ]
     },
     "metadata": {
      "needs_background": "light"
     },
     "output_type": "display_data"
    },
    {
     "data": {
      "image/png": "[encoded data removed]",
      "text/plain": [
       "<Figure size 576x72 with 1 Axes>"
      ]
     },
     "metadata": {
      "needs_background": "light"
     },
     "output_type": "display_data"
    },
    {
     "data": {
      "image/png": "[encoded data removed]",
      "text/plain": [
       "<Figure size 576x72 with 1 Axes>"
      ]
     },
     "metadata": {
      "needs_background": "light"
     },
     "output_type": "display_data"
    },
    {
     "data": {
      "image/png": "[encoded data removed]",
      "text/plain": [
       "<Figure size 576x72 with 1 Axes>"
      ]
     },
     "metadata": {
      "needs_background": "light"
     },
     "output_type": "display_data"
    },
    {
     "data": {
      "image/png": "[encoded data removed]",
      "text/plain": [
       "<Figure size 576x72 with 1 Axes>"
      ]
     },
     "metadata": {
      "needs_background": "light"
     },
     "output_type": "display_data"
    },
    {
     "data": {
      "image/png": "[encoded data removed]",
      "text/plain": [
       "<Figure size 576x72 with 1 Axes>"
      ]
     },
     "metadata": {
      "needs_background": "light"
     },
     "output_type": "display_data"
    }
   ],
   "source": [
    "import matplotlib.pyplot as plt \n",
    "# Create a figure instance\n",
    "fig = plt.figure(1, figsize=(8, 1))\n",
    "# Create an axes instance\n",
    "ax = fig.add_subplot(111)\n",
    "# Create the boxplot\n",
    "bp = ax.boxplot(l1)\n",
    "\n",
    "fig = plt.figure(2, figsize=(8, 1))\n",
    "# Create an axes instance\n",
    "ax = fig.add_subplot(111)\n",
    "# Create the boxplot\n",
    "bp = ax.boxplot(l2)\n",
    "\n",
    "fig = plt.figure(3, figsize=(8, 1))\n",
    "# Create an axes instance\n",
    "ax = fig.add_subplot(111)\n",
    "# Create the boxplot\n",
    "bp = ax.boxplot(l3)\n",
    "\n",
    "fig = plt.figure(4, figsize=(8, 1))\n",
    "# Create an axes instance\n",
    "ax = fig.add_subplot(111)\n",
    "# Create the boxplot\n",
    "bp = ax.boxplot(l4)\n",
    "\n",
    "fig = plt.figure(5, figsize=(8, 1))\n",
    "# Create an axes instance\n",
    "ax = fig.add_subplot(111)\n",
    "# Create the boxplot\n",
    "bp = ax.boxplot(l5)\n",
    "\n",
    "fig = plt.figure(6, figsize=(8, 1))\n",
    "# Create an axes instance\n",
    "ax = fig.add_subplot(111)\n",
    "# Create the boxplot\n",
    "bp = ax.boxplot(l6)\n",
    "\n",
    "fig = plt.figure(7, figsize=(8, 1))\n",
    "# Create an axes instance\n",
    "ax = fig.add_subplot(111)\n",
    "# Create the boxplot\n",
    "bp = ax.boxplot(l7)\n",
    "\n",
    "fig = plt.figure(8, figsize=(8, 1))\n",
    "# Create an axes instance\n",
    "ax = fig.add_subplot(111)\n",
    "# Create the boxplot\n",
    "bp = ax.boxplot(l8)"
   ]
  },
  {
   "cell_type": "code",
   "execution_count": 60,
   "metadata": {},
   "outputs": [
    {
     "data": {
      "image/png": "[encoded data removed]",
      "text/plain": [
       "<Figure size 432x288 with 1 Axes>"
      ]
     },
     "metadata": {
      "needs_background": "light"
     },
     "output_type": "display_data"
    }
   ],
   "source": [
    "plt.hist(l1, bins = 100)\n",
    "plt.show()"
   ]
  },
  {
   "cell_type": "code",
   "execution_count": 58,
   "metadata": {},
   "outputs": [
    {
     "name": "stdout",
     "output_type": "stream",
     "text": [
      "0.10401558876037598\n",
      "0.06284289360046387\n",
      "0.4877377986907959\n",
      "0.6964607238769531\n",
      "0.7218634605407714\n",
      "0.5086816310882568\n",
      "0.551052188873291\n",
      "5.687981271743775\n"
     ]
    }
   ],
   "source": [
    "print(sum(l1) / len(l1))\n",
    "print(sum(l2) / len(l2))\n",
    "print(sum(l3) / len(l3))\n",
    "print(sum(l4) / len(l4))\n",
    "print(sum(l5) / len(l5))\n",
    "print(sum(l6) / len(l6))\n",
    "print(sum(l7) / len(l7))\n",
    "print(sum(l8) / len(l8))"
   ]
  },
  {
   "cell_type": "code",
   "execution_count": 70,
   "metadata": {},
   "outputs": [
    {
     "name": "stdout",
     "output_type": "stream",
     "text": [
      "0.0747995376586914\n",
      "0.05485343933105469\n",
      "0.42885255813598633\n",
      "0.5844361782073975\n",
      "0.5245876312255859\n",
      "0.41887950897216797\n",
      "0.46878480911254883\n",
      "5.171165943145752\n",
      "7.726359605789185\n"
     ]
    }
   ],
   "source": [
    "\n",
    "db_name = 'bigproject'\n",
    "con = pymysql.connect(host = 'localhost',user = 'root',passwd = 'Data2020ScienceTU!@#',db = db_name)\n",
    "cursor = con.cursor()\n",
    "ll = []\n",
    "for i in range(5):\n",
    "    ans1 = min(ans1, count_time(cursor, query1))\n",
    "print(ans1)\n",
    "ll.append(ans1)\n",
    "for i in range(10):\n",
    "    ans2 = min(ans2, count_time(cursor, query2))\n",
    "print(ans2)\n",
    "ll.append(ans2)\n",
    "for i in range(10):\n",
    "    ans3 = min(ans3, count_time(cursor, query3))\n",
    "print(ans3)\n",
    "ll.append(ans3)\n",
    "for i in range(10):\n",
    "    ans4 = min(ans4, count_time(cursor, query4))\n",
    "print(ans4)\n",
    "ll.append(ans4)\n",
    "for i in range(10):\n",
    "    ans5 = min(ans5, count_time(cursor, query5))\n",
    "print(ans5)\n",
    "ll.append(ans5)\n",
    "for i in range(10):\n",
    "    ans6 = min(ans6, count_time(cursor, query6))\n",
    "print(ans6)\n",
    "ll.append(ans6)\n",
    "for i in range(10):\n",
    "    ans7 = min(ans7, count_time(cursor, query7))\n",
    "print(ans7)\n",
    "ll.append(ans7)\n",
    "for i in range(10):\n",
    "    ans8 = min(ans8, count_time(cursor, query8))\n",
    "ll.append(ans8)\n",
    "print(ans8)\n",
    "ans = ans1 + ans2 + ans3 + ans4 + ans5 + ans6 + ans7 + ans8\n",
    "print(ans)\n",
    "con.commit()\n",
    "con.close()"
   ]
  },
  {
   "cell_type": "code",
   "execution_count": 71,
   "metadata": {},
   "outputs": [
    {
     "data": {
      "image/png": "[encoded data removed]",
      "text/plain": [
       "<Figure size 432x288 with 1 Axes>"
      ]
     },
     "metadata": {
      "needs_background": "light"
     },
     "output_type": "display_data"
    }
   ],
   "source": [
    "plt.hist(ll, bins = 200)\n",
    "plt.hist(l, bins = 200)\n",
    "plt.show()"
   ]
  },
  {
   "cell_type": "code",
   "execution_count": null,
   "metadata": {},
   "outputs": [],
   "source": []
  },
  {
   "cell_type": "code",
   "execution_count": null,
   "metadata": {},
   "outputs": [],
   "source": []
  }
 ],
 "metadata": {
  "kernelspec": {
   "display_name": "Python 3",
   "language": "python",
   "name": "python3"
  },
  "language_info": {
   "codemirror_mode": {
    "name": "ipython",
    "version": 3
   },
   "file_extension": ".py",
   "mimetype": "text/x-python",
   "name": "python",
   "nbconvert_exporter": "python",
   "pygments_lexer": "ipython3",
   "version": "3.7.6"
  }
 },
 "nbformat": 4,
 "nbformat_minor": 4
}
